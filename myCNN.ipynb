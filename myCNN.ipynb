{
 "cells": [
  {
   "cell_type": "code",
   "execution_count": null,
   "id": "555a21e1-de1d-4bad-b2ab-4d8aee333553",
   "metadata": {},
   "outputs": [],
   "source": []
  },
  {
   "cell_type": "code",
   "execution_count": null,
   "id": "a30947eb-39b7-4a72-983f-be983eedb6bb",
   "metadata": {},
   "outputs": [],
   "source": []
  },
  {
   "cell_type": "code",
   "execution_count": null,
   "id": "d7873d40-ad54-4e9f-98b0-964b4cf26529",
   "metadata": {},
   "outputs": [],
   "source": []
  },
  {
   "cell_type": "code",
   "execution_count": null,
   "id": "bd6e5d0b-46a9-4fe3-b67c-873a69e9ca45",
   "metadata": {},
   "outputs": [],
   "source": []
  },
  {
   "cell_type": "code",
   "execution_count": 1,
   "id": "724d393a",
   "metadata": {},
   "outputs": [],
   "source": [
    "import os\n",
    "import pandas as pd\n",
    "import numpy as np\n",
    "import matplotlib.pyplot as plt\n",
    "import torch\n",
    "import torch.nn as nn\n",
    "from PIL import Image\n",
    "import pathlib\n",
    "import splitfolders\n",
    "import torchvision.transforms as transforms # A module from the torchvision library that provides common image transformations, such as resizing, cropping, and normalization.\n",
    "import torchvision\n",
    "\n",
    "import torch.nn.functional as F\n",
    "from torchsummary import summary\n",
    "from torch import optim\n",
    "from torch.optim.lr_scheduler import ReduceLROnPlateau\n",
    "\n",
    "import copy # A module that provides functions for creating copies of objects, useful for avoiding unintended modifications to variables.\n",
    "# from tqdm.notebook import trange, tqdm # These functions allow for the creation of progress bars to track the progress of loops or tasks.\n",
    "\n",
    "from sklearn.metrics import confusion_matrix, classification_report\n",
    "\n",
    "import seaborn as sns\n",
    "import itertools"
   ]
  },
  {
   "cell_type": "code",
   "execution_count": null,
   "id": "09097904",
   "metadata": {},
   "outputs": [],
   "source": []
  },
  {
   "cell_type": "code",
   "execution_count": 37,
   "id": "90aa5bc2",
   "metadata": {},
   "outputs": [],
   "source": [
    "\n",
    "# data_dir = r'P:\\pytroch Projects\\Brain Images'\n",
    "# data_dir = pathlib.Path(data_dir)\n",
    "\n",
    "# # Splitting dataset to train_set, val_set and test_set\n",
    "# splitfolders.ratio(data_dir, output='trainValSet', seed=20, ratio=(0.8, 0.2))\n",
    "\n"
   ]
  },
  {
   "cell_type": "code",
   "execution_count": 38,
   "id": "66f89724",
   "metadata": {},
   "outputs": [],
   "source": [
    "# New dataset path\n",
    "data_dir = r'.\\trainValSet'\n",
    "data_dir = pathlib.Path(data_dir)"
   ]
  },
  {
   "cell_type": "code",
   "execution_count": 39,
   "id": "7fc17e94",
   "metadata": {},
   "outputs": [
    {
     "data": {
      "text/plain": [
       "['train', 'val']"
      ]
     },
     "execution_count": 39,
     "metadata": {},
     "output_type": "execute_result"
    }
   ],
   "source": [
    "os.listdir(r'.\\trainValSet')"
   ]
  },
  {
   "cell_type": "code",
   "execution_count": 40,
   "id": "66f11d5a",
   "metadata": {},
   "outputs": [],
   "source": [
    "# define transformation\n",
    "transform = transforms.Compose(\n",
    "    [\n",
    "        transforms.Resize((256,256)),\n",
    "        transforms.RandomHorizontalFlip(p=0.5),\n",
    "        transforms.RandomVerticalFlip(p=0.5),\n",
    "        transforms.RandomRotation(30),\n",
    "        transforms.ToTensor(),\n",
    "        transforms.Normalize(mean = [0.485, 0.456, 0.406],std = [0.229, 0.224, 0.225])\n",
    "   ]\n",
    ")"
   ]
  },
  {
   "cell_type": "code",
   "execution_count": 41,
   "id": "c323a8ec",
   "metadata": {},
   "outputs": [
    {
     "data": {
      "text/plain": [
       "Compose(\n",
       "    Resize(size=(256, 256), interpolation=bilinear, max_size=None, antialias=warn)\n",
       "    RandomHorizontalFlip(p=0.5)\n",
       "    RandomVerticalFlip(p=0.5)\n",
       "    RandomRotation(degrees=[-30.0, 30.0], interpolation=nearest, expand=False, fill=0)\n",
       "    ToTensor()\n",
       "    Normalize(mean=[0.485, 0.456, 0.406], std=[0.229, 0.224, 0.225])\n",
       ")"
      ]
     },
     "execution_count": 41,
     "metadata": {},
     "output_type": "execute_result"
    }
   ],
   "source": [
    "# Define an object of the custom dataset for the train and validation.\n",
    "train_set = torchvision.datasets.ImageFolder(data_dir.joinpath(\"train\"), transform=transform)\n",
    "train_set.transform\n",
    "val_set = torchvision.datasets.ImageFolder(data_dir.joinpath(\"val\"), transform=transform)\n",
    "val_set.transform"
   ]
  },
  {
   "cell_type": "code",
   "execution_count": 42,
   "id": "06f96e11",
   "metadata": {},
   "outputs": [],
   "source": [
    "# import and load train, validation\n",
    "batch_size = 32\n",
    "\n",
    "train_loader = torch.utils.data.DataLoader(train_set, batch_size = batch_size, shuffle = True, num_workers = 2)\n",
    "val_loader = torch.utils.data.DataLoader(val_set, batch_size = batch_size, shuffle = True, num_workers = 2)\n"
   ]
  },
  {
   "cell_type": "code",
   "execution_count": 43,
   "id": "2c0cbe3d",
   "metadata": {},
   "outputs": [
    {
     "name": "stdout",
     "output_type": "stream",
     "text": [
      "Training data:\n",
      "Shape of X : torch.Size([32, 3, 256, 256])\n",
      "Shape of y: torch.Size([32]) torch.int64\n",
      "\n",
      "Validation data:\n",
      "Shape of X : torch.Size([32, 3, 256, 256])\n",
      "Shape of y: torch.Size([32]) torch.int64\n",
      "\n"
     ]
    }
   ],
   "source": [
    "for key, value in {'Training data': train_loader, \"Validation data\": val_loader}.items():\n",
    "    for X, y in value:\n",
    "        print(f\"{key}:\")\n",
    "        print(f\"Shape of X : {X.shape}\")\n",
    "        print(f\"Shape of y: {y.shape} {y.dtype}\\n\")\n",
    "        break"
   ]
  },
  {
   "cell_type": "code",
   "execution_count": 44,
   "id": "7082d3fa",
   "metadata": {},
   "outputs": [],
   "source": [
    "def findConv2dOutShape(hin,win,conv,pool=2):\n",
    "    # get conv arguments\n",
    "    kernel_size = conv.kernel_size\n",
    "    stride=conv.stride\n",
    "    padding=conv.padding\n",
    "    dilation=conv.dilation\n",
    "\n",
    "    hout=np.floor((hin+2*padding[0]-dilation[0]*(kernel_size[0]-1)-1)/stride[0]+1)\n",
    "    wout=np.floor((win+2*padding[1]-dilation[1]*(kernel_size[1]-1)-1)/stride[1]+1)\n",
    "\n",
    "    if pool:\n",
    "        hout/=pool\n",
    "        wout/=pool\n",
    "    return int(hout),int(wout)"
   ]
  },
  {
   "cell_type": "code",
   "execution_count": 45,
   "id": "ba6ef1ae",
   "metadata": {},
   "outputs": [],
   "source": [
    "class BrainScanPlaneDetector(nn.Module):\n",
    "    def __init__(self, num_classes = 2):\n",
    "        super(BrainScanPlaneDetector, self).__init__()\n",
    "        \n",
    "        # Convolutional layers\n",
    "        self.conv0 = nn.Conv2d(3, 64, kernel_size = 3)\n",
    "        h,w = findConv2dOutShape(256,256,self.conv0)\n",
    "        self.conv1 = nn.Conv2d(64, 128, kernel_size = 3)\n",
    "        h,w = findConv2dOutShape(h,w,self.conv1)\n",
    "        self.conv2 = nn.Conv2d(128, 256, kernel_size = 3)\n",
    "        h,w = findConv2dOutShape(h,w,self.conv2)\n",
    "        self.conv3 = nn.Conv2d(256, 512, kernel_size = 3)\n",
    "        h,w = findConv2dOutShape(h,w,self.conv3)\n",
    "            \n",
    "            \n",
    "        #Max pooling layers\n",
    "        self.maxPool = nn.MaxPool2d(kernel_size = 2, stride = 2)\n",
    "        \n",
    "        #Fully connected layers\n",
    "        self.num_flatten=h*w*512\n",
    "        self.fc1 = nn.Linear(self.num_flatten,512 )\n",
    "        self.fc2 = nn.Linear(512, num_classes)\n",
    "        \n",
    "        #Activation functions\n",
    "        \n",
    "        self.relu = nn.ReLU()\n",
    "        self.dropout = nn.Dropout(0.5)\n",
    "        \n",
    "    def forward(self,x): \n",
    "        # Convolutional layers with ReLU activation and max pooling\n",
    "        x = self.maxPool(self.relu(self.conv0(x)))\n",
    "        x = self.maxPool(self.relu(self.conv1(x)))\n",
    "        x = self.maxPool(self.relu(self.conv2(x)))\n",
    "        x = self.maxPool(self.relu(self.conv3(x)))\n",
    "        \n",
    "        # Flatten the output of the convolutional layers\n",
    "        x = x.view(-1, self.num_flatten)\n",
    "        \n",
    "        # Fully connected layers with dropout\n",
    "        x = self.dropout(self.relu(self.fc1(x)))\n",
    "        x = self.fc2(x)\n",
    "        \n",
    "        return x"
   ]
  },
  {
   "cell_type": "code",
   "execution_count": 46,
   "id": "b92f84e4",
   "metadata": {},
   "outputs": [],
   "source": [
    "# Create an instance of the BrainScanPlaneDetector model\n",
    "model = BrainScanPlaneDetector()\n",
    "device = torch.device(\"cuda\" if torch.cuda.is_available() else \"cpu\")\n",
    "\n",
    "cnn_model = model.to(device)\n",
    "    "
   ]
  },
  {
   "cell_type": "code",
   "execution_count": 47,
   "id": "ff84767b",
   "metadata": {},
   "outputs": [
    {
     "data": {
      "text/plain": [
       "True"
      ]
     },
     "execution_count": 47,
     "metadata": {},
     "output_type": "execute_result"
    }
   ],
   "source": [
    "torch.cuda.is_available()"
   ]
  },
  {
   "cell_type": "code",
   "execution_count": 48,
   "id": "f722d456",
   "metadata": {},
   "outputs": [
    {
     "name": "stdout",
     "output_type": "stream",
     "text": [
      "----------------------------------------------------------------\n",
      "        Layer (type)               Output Shape         Param #\n",
      "================================================================\n",
      "            Conv2d-1         [-1, 64, 254, 254]           1,792\n",
      "              ReLU-2         [-1, 64, 254, 254]               0\n",
      "         MaxPool2d-3         [-1, 64, 127, 127]               0\n",
      "            Conv2d-4        [-1, 128, 125, 125]          73,856\n",
      "              ReLU-5        [-1, 128, 125, 125]               0\n",
      "         MaxPool2d-6          [-1, 128, 62, 62]               0\n",
      "            Conv2d-7          [-1, 256, 60, 60]         295,168\n",
      "              ReLU-8          [-1, 256, 60, 60]               0\n",
      "         MaxPool2d-9          [-1, 256, 30, 30]               0\n",
      "           Conv2d-10          [-1, 512, 28, 28]       1,180,160\n",
      "             ReLU-11          [-1, 512, 28, 28]               0\n",
      "        MaxPool2d-12          [-1, 512, 14, 14]               0\n",
      "           Linear-13                  [-1, 512]      51,380,736\n",
      "             ReLU-14                  [-1, 512]               0\n",
      "          Dropout-15                  [-1, 512]               0\n",
      "           Linear-16                    [-1, 2]           1,026\n",
      "================================================================\n",
      "Total params: 52,932,738\n",
      "Trainable params: 52,932,738\n",
      "Non-trainable params: 0\n",
      "----------------------------------------------------------------\n",
      "Input size (MB): 0.75\n",
      "Forward/backward pass size (MB): 127.87\n",
      "Params size (MB): 201.92\n",
      "Estimated Total Size (MB): 330.55\n",
      "----------------------------------------------------------------\n"
     ]
    }
   ],
   "source": [
    "# Model Summary for CNN Model\n",
    "summary(cnn_model, input_size=(3,256, 256),device=device.type)"
   ]
  },
  {
   "cell_type": "code",
   "execution_count": 49,
   "id": "ccc0b591",
   "metadata": {},
   "outputs": [],
   "source": [
    "###Defining loss function\n",
    "loss_func = nn.CrossEntropyLoss()"
   ]
  },
  {
   "cell_type": "code",
   "execution_count": 50,
   "id": "f2384821",
   "metadata": {},
   "outputs": [],
   "source": [
    "##Optimizer\n",
    "optimizer = optim.RMSprop(model.parameters(), lr=0.001)"
   ]
  },
  {
   "cell_type": "code",
   "execution_count": null,
   "id": "e45f8404",
   "metadata": {},
   "outputs": [],
   "source": []
  },
  {
   "cell_type": "code",
   "execution_count": 51,
   "id": "08efefc8",
   "metadata": {},
   "outputs": [],
   "source": [
    "def train_and_evaluate_model(model, train_loader, valid_loader, loss_funtion, optimizer, num_epochs, save_path):\n",
    "    device = torch.device(\"cuda\" if torch.cuda.is_available() else \"cpu\")\n",
    "    model.to(device)\n",
    "    \n",
    "      # initialize best loss to a large value\n",
    "    best_valid_loss = float('inf')\n",
    "    \n",
    "      # history of loss values in each epoch\n",
    "    loss_history={\"train\": [],\"val\": []}\n",
    "    # histroy of metric values in each epoch\n",
    "    accuracy_history={\"train\": [],\"val\": []}\n",
    "    \n",
    "    for epoch in range(num_epochs):\n",
    "        # Training phase\n",
    "        model.train()\n",
    "        train_loss = 0.0\n",
    "        correct_train = 0\n",
    "        total_train = 0\n",
    "        for images, labels in train_loader:\n",
    "            images, labels = images.to(device), labels.to(device)\n",
    "            \n",
    "            optimizer.zero_grad()\n",
    "            outputs = model(images)\n",
    "            loss = loss_funtion(outputs, labels)\n",
    "            loss.backward()\n",
    "            optimizer.step()\n",
    "            \n",
    "            train_loss += loss.item()\n",
    "            _, predicted = torch.max(outputs, 1)\n",
    "            correct_train += (predicted == labels).sum().item()\n",
    "            total_train += labels.size(0)\n",
    "        \n",
    "        train_accuracy = 100 * correct_train / total_train\n",
    "        train_loss /= len(train_loader)\n",
    "        \n",
    "         # collect loss and accuracy for training\n",
    "        loss_history[\"train\"].append(train_loss)\n",
    "        accuracy_history[\"train\"].append(train_accuracy)\n",
    "        \n",
    "        # Validation phase\n",
    "        model.eval()\n",
    "        valid_loss = 0.0\n",
    "        correct_valid = 0\n",
    "        total_valid = 0\n",
    "        with torch.no_grad():\n",
    "            for images, labels in valid_loader:\n",
    "                images, labels = images.to(device), labels.to(device)\n",
    "                \n",
    "                outputs = model(images)\n",
    "                loss = loss_funtion(outputs, labels)\n",
    "                \n",
    "                valid_loss += loss.item()\n",
    "                _, predicted = torch.max(outputs, 1)\n",
    "                correct_valid += (predicted == labels).sum().item()\n",
    "                total_valid += labels.size(0)\n",
    "        \n",
    "        valid_accuracy = 100 * correct_valid / total_valid\n",
    "        valid_loss /=  len(valid_loader)\n",
    "        \n",
    "         # collect loss and accuracy for validation \n",
    "        loss_history[\"val\"].append(valid_loss)\n",
    "        accuracy_history[\"val\"].append(valid_accuracy)\n",
    "        \n",
    "        # Save the model if validation loss improves\n",
    "        if valid_loss < best_valid_loss:\n",
    "            best_valid_loss = valid_loss\n",
    "            torch.save(model.state_dict(), save_path)\n",
    "            \n",
    "        # Print training and validation statistics\n",
    "        print(f'Epoch [{epoch+1}/{num_epochs}], '\n",
    "              f'Train Loss: {train_loss:.4f}, Train Acc: {train_accuracy:.2f}%, '\n",
    "              f'Valid Loss: {valid_loss:.4f}, Valid Acc: {valid_accuracy:.2f}%')\n",
    "\n",
    "    return model, loss_history, accuracy_history"
   ]
  },
  {
   "cell_type": "code",
   "execution_count": 52,
   "id": "83e3d305",
   "metadata": {},
   "outputs": [],
   "source": [
    "# Set PYTORCH_CUDA_ALLOC_CONF environment variable\n",
    "os.environ[\"PYTORCH_CUDA_ALLOC_CONF\"] = \"caching_allocator\"\n",
    "\n",
    "# Reset PYTORCH_CUDA_ALLOC_CONF environment variable (optional)\n",
    "os.environ[\"PYTORCH_CUDA_ALLOC_CONF\"] = \"\""
   ]
  },
  {
   "cell_type": "code",
   "execution_count": 53,
   "id": "82464d2f",
   "metadata": {},
   "outputs": [
    {
     "name": "stdout",
     "output_type": "stream",
     "text": [
      "Epoch [1/60], Train Loss: 403.2564, Train Acc: 81.97%, Valid Loss: 0.2353, Valid Acc: 88.86%\n",
      "Epoch [2/60], Train Loss: 0.1603, Train Acc: 94.59%, Valid Loss: 0.0937, Valid Acc: 97.25%\n",
      "Epoch [3/60], Train Loss: 0.0968, Train Acc: 96.78%, Valid Loss: 0.0599, Valid Acc: 97.62%\n",
      "Epoch [4/60], Train Loss: 0.0767, Train Acc: 97.66%, Valid Loss: 0.0482, Valid Acc: 98.75%\n",
      "Epoch [5/60], Train Loss: 0.0591, Train Acc: 97.94%, Valid Loss: 0.1293, Valid Acc: 95.12%\n",
      "Epoch [6/60], Train Loss: 0.0884, Train Acc: 97.25%, Valid Loss: 0.5047, Valid Acc: 81.73%\n",
      "Epoch [7/60], Train Loss: 0.0650, Train Acc: 97.94%, Valid Loss: 0.0350, Valid Acc: 99.37%\n",
      "Epoch [8/60], Train Loss: 0.0843, Train Acc: 97.66%, Valid Loss: 0.0409, Valid Acc: 98.87%\n",
      "Epoch [9/60], Train Loss: 0.0483, Train Acc: 98.38%, Valid Loss: 0.0412, Valid Acc: 98.50%\n",
      "Epoch [10/60], Train Loss: 1.1730, Train Acc: 93.72%, Valid Loss: 0.0444, Valid Acc: 98.37%\n",
      "Epoch [11/60], Train Loss: 0.0507, Train Acc: 98.38%, Valid Loss: 0.3404, Valid Acc: 91.49%\n",
      "Epoch [12/60], Train Loss: 0.0787, Train Acc: 97.62%, Valid Loss: 0.0316, Valid Acc: 98.87%\n",
      "Epoch [13/60], Train Loss: 0.0436, Train Acc: 98.75%, Valid Loss: 0.0365, Valid Acc: 99.00%\n",
      "Epoch [14/60], Train Loss: 0.0486, Train Acc: 98.84%, Valid Loss: 0.0258, Valid Acc: 99.37%\n",
      "Epoch [15/60], Train Loss: 0.0727, Train Acc: 97.56%, Valid Loss: 0.0442, Valid Acc: 98.37%\n",
      "Epoch [16/60], Train Loss: 0.1281, Train Acc: 97.59%, Valid Loss: 0.0367, Valid Acc: 98.62%\n",
      "Epoch [17/60], Train Loss: 0.0425, Train Acc: 98.59%, Valid Loss: 0.0398, Valid Acc: 98.75%\n",
      "Epoch [18/60], Train Loss: 0.0490, Train Acc: 98.66%, Valid Loss: 0.0259, Valid Acc: 99.50%\n",
      "Epoch [19/60], Train Loss: 0.0374, Train Acc: 98.81%, Valid Loss: 0.0223, Valid Acc: 99.62%\n",
      "Epoch [20/60], Train Loss: 0.2507, Train Acc: 97.09%, Valid Loss: 0.0412, Valid Acc: 98.87%\n",
      "Epoch [21/60], Train Loss: 0.0397, Train Acc: 98.75%, Valid Loss: 0.0205, Valid Acc: 99.62%\n",
      "Epoch [22/60], Train Loss: 0.0277, Train Acc: 99.19%, Valid Loss: 0.0243, Valid Acc: 99.37%\n",
      "Epoch [23/60], Train Loss: 0.0267, Train Acc: 99.25%, Valid Loss: 0.0302, Valid Acc: 99.37%\n",
      "Epoch [24/60], Train Loss: 0.0430, Train Acc: 98.81%, Valid Loss: 0.0102, Valid Acc: 99.62%\n",
      "Epoch [25/60], Train Loss: 0.0341, Train Acc: 99.06%, Valid Loss: 0.0262, Valid Acc: 99.37%\n",
      "Epoch [26/60], Train Loss: 0.0520, Train Acc: 98.66%, Valid Loss: 0.0232, Valid Acc: 99.37%\n",
      "Epoch [27/60], Train Loss: 0.0290, Train Acc: 99.28%, Valid Loss: 0.0220, Valid Acc: 99.62%\n",
      "Epoch [28/60], Train Loss: 0.6555, Train Acc: 97.66%, Valid Loss: 0.0246, Valid Acc: 99.25%\n",
      "Epoch [29/60], Train Loss: 0.0224, Train Acc: 99.25%, Valid Loss: 0.0246, Valid Acc: 99.62%\n",
      "Epoch [30/60], Train Loss: 0.0258, Train Acc: 99.41%, Valid Loss: 0.0301, Valid Acc: 99.62%\n",
      "Epoch [31/60], Train Loss: 0.0258, Train Acc: 99.25%, Valid Loss: 0.0288, Valid Acc: 99.62%\n",
      "Epoch [32/60], Train Loss: 0.0224, Train Acc: 99.38%, Valid Loss: 0.0242, Valid Acc: 99.50%\n",
      "Epoch [33/60], Train Loss: 0.1006, Train Acc: 98.41%, Valid Loss: 0.0661, Valid Acc: 99.37%\n",
      "Epoch [34/60], Train Loss: 0.0511, Train Acc: 98.81%, Valid Loss: 0.0482, Valid Acc: 99.37%\n",
      "Epoch [35/60], Train Loss: 0.0252, Train Acc: 99.19%, Valid Loss: 0.0114, Valid Acc: 99.75%\n",
      "Epoch [36/60], Train Loss: 0.0296, Train Acc: 99.22%, Valid Loss: 0.0552, Valid Acc: 99.50%\n",
      "Epoch [37/60], Train Loss: 0.0347, Train Acc: 98.94%, Valid Loss: 0.0445, Valid Acc: 99.37%\n",
      "Epoch [38/60], Train Loss: 0.0636, Train Acc: 98.75%, Valid Loss: 0.0303, Valid Acc: 99.62%\n",
      "Epoch [39/60], Train Loss: 0.0258, Train Acc: 99.22%, Valid Loss: 0.0295, Valid Acc: 99.37%\n",
      "Epoch [40/60], Train Loss: 0.0258, Train Acc: 99.25%, Valid Loss: 0.0634, Valid Acc: 99.62%\n",
      "Epoch [41/60], Train Loss: 0.0677, Train Acc: 99.03%, Valid Loss: 0.0321, Valid Acc: 99.62%\n",
      "Epoch [42/60], Train Loss: 0.0326, Train Acc: 99.34%, Valid Loss: 0.0605, Valid Acc: 97.75%\n",
      "Epoch [43/60], Train Loss: 0.0343, Train Acc: 99.06%, Valid Loss: 0.0399, Valid Acc: 99.50%\n",
      "Epoch [44/60], Train Loss: 0.0354, Train Acc: 99.22%, Valid Loss: 0.0538, Valid Acc: 99.50%\n",
      "Epoch [45/60], Train Loss: 0.0420, Train Acc: 99.34%, Valid Loss: 0.0205, Valid Acc: 99.87%\n",
      "Epoch [46/60], Train Loss: 0.0353, Train Acc: 99.22%, Valid Loss: 0.0288, Valid Acc: 99.62%\n",
      "Epoch [47/60], Train Loss: 0.0184, Train Acc: 99.56%, Valid Loss: 0.0347, Valid Acc: 99.75%\n",
      "Epoch [48/60], Train Loss: 0.0250, Train Acc: 99.25%, Valid Loss: 0.0249, Valid Acc: 99.75%\n",
      "Epoch [49/60], Train Loss: 0.0129, Train Acc: 99.72%, Valid Loss: 0.0335, Valid Acc: 99.62%\n",
      "Epoch [50/60], Train Loss: 0.0195, Train Acc: 99.53%, Valid Loss: 0.0277, Valid Acc: 99.75%\n",
      "Epoch [51/60], Train Loss: 0.0207, Train Acc: 99.28%, Valid Loss: 0.0260, Valid Acc: 99.87%\n",
      "Epoch [52/60], Train Loss: 0.0232, Train Acc: 99.50%, Valid Loss: 0.0205, Valid Acc: 99.87%\n",
      "Epoch [53/60], Train Loss: 0.0253, Train Acc: 99.50%, Valid Loss: 0.0307, Valid Acc: 99.62%\n",
      "Epoch [54/60], Train Loss: 0.0175, Train Acc: 99.62%, Valid Loss: 0.0225, Valid Acc: 99.75%\n",
      "Epoch [55/60], Train Loss: 0.0126, Train Acc: 99.53%, Valid Loss: 0.0384, Valid Acc: 99.50%\n",
      "Epoch [56/60], Train Loss: 0.0170, Train Acc: 99.56%, Valid Loss: 0.0334, Valid Acc: 99.50%\n",
      "Epoch [57/60], Train Loss: 0.0537, Train Acc: 99.22%, Valid Loss: 0.0210, Valid Acc: 99.87%\n",
      "Epoch [58/60], Train Loss: 0.0133, Train Acc: 99.78%, Valid Loss: 0.0250, Valid Acc: 99.87%\n",
      "Epoch [59/60], Train Loss: 0.0212, Train Acc: 99.69%, Valid Loss: 0.0357, Valid Acc: 99.75%\n",
      "Epoch [60/60], Train Loss: 0.0108, Train Acc: 99.62%, Valid Loss: 0.0386, Valid Acc: 99.37%\n"
     ]
    }
   ],
   "source": [
    "# num_epochs = 60\n",
    "# save_path='model3.pth'\n",
    "# cnn_model, loss_hist,accuracy_hist = train_and_evaluate_model(model, train_loader,val_loader, loss_func, optimizer, num_epochs, save_path)"
   ]
  },
  {
   "cell_type": "code",
   "execution_count": null,
   "id": "8d3c8702",
   "metadata": {},
   "outputs": [],
   "source": []
  },
  {
   "cell_type": "code",
   "execution_count": 61,
   "id": "6a9647a0",
   "metadata": {},
   "outputs": [
    {
     "data": {
      "text/plain": [
       "BrainScanPlaneDetector(\n",
       "  (conv0): Conv2d(3, 64, kernel_size=(3, 3), stride=(1, 1))\n",
       "  (conv1): Conv2d(64, 128, kernel_size=(3, 3), stride=(1, 1))\n",
       "  (conv2): Conv2d(128, 256, kernel_size=(3, 3), stride=(1, 1))\n",
       "  (conv3): Conv2d(256, 512, kernel_size=(3, 3), stride=(1, 1))\n",
       "  (maxPool): MaxPool2d(kernel_size=2, stride=2, padding=0, dilation=1, ceil_mode=False)\n",
       "  (fc1): Linear(in_features=100352, out_features=512, bias=True)\n",
       "  (fc2): Linear(in_features=512, out_features=2, bias=True)\n",
       "  (relu): ReLU()\n",
       "  (dropout): Dropout(p=0.5, inplace=False)\n",
       ")"
      ]
     },
     "execution_count": 61,
     "metadata": {},
     "output_type": "execute_result"
    }
   ],
   "source": [
    "\n",
    "# cnn_model.load_state_dict(torch.load(save_path))\n",
    "# cnn_model.eval()\n"
   ]
  },
  {
   "cell_type": "code",
   "execution_count": 62,
   "id": "10792fd3",
   "metadata": {},
   "outputs": [],
   "source": [
    "\n",
    "# data = {\n",
    "#     \"loss_hist['train']\": loss_hist[\"train\"],\n",
    "#     \"loss_hist['val']\": loss_hist[\"val\"],\n",
    "#     \"accuracy_hist['train']\": accuracy_hist[\"train\"],\n",
    "#     \"accuracy_hist['val']\": accuracy_hist[\"val\"]\n",
    "# }\n",
    "\n",
    "# df = pd.DataFrame(data)\n",
    "# df.to_csv(\"modelResult2.csv\")"
   ]
  },
  {
   "cell_type": "code",
   "execution_count": 63,
   "id": "5441f41b",
   "metadata": {},
   "outputs": [],
   "source": [
    "# print(cnn_model)\n"
   ]
  },
  {
   "cell_type": "code",
   "execution_count": 64,
   "id": "37fdab33",
   "metadata": {},
   "outputs": [
    {
     "data": {
      "text/plain": [
       "<Axes: >"
      ]
     },
     "execution_count": 64,
     "metadata": {},
     "output_type": "execute_result"
    },
    {
     "data": {
      "image/png": "[encoded data removed]",
      "text/plain": [
       "<Figure size 1200x500 with 2 Axes>"
      ]
     },
     "metadata": {},
     "output_type": "display_data"
    }
   ],
   "source": [
    "# Convergence History Plot\n",
    "\n",
    "fig,ax = plt.subplots(1,2,figsize=(12,5))\n",
    "\n",
    "sns.lineplot(x=[*range(1,num_epochs+1)],y=loss_hist[\"train\"],ax=ax[0],label='loss_hist[\"train\"]')\n",
    "sns.lineplot(x=[*range(1,num_epochs+1)],y=loss_hist[\"val\"],ax=ax[0],label='loss_hist[\"val\"]')\n",
    "sns.lineplot(x=[*range(1,num_epochs+1)],y=accuracy_hist[\"train\"],ax=ax[1],label='accuracy_hist[\"train\"]')\n",
    "sns.lineplot(x=[*range(1,num_epochs+1)],y=accuracy_hist[\"val\"],ax=ax[1],label='accuracy_hist[\"val\"]')"
   ]
  },
  {
   "cell_type": "code",
   "execution_count": 69,
   "id": "57e5df9f",
   "metadata": {},
   "outputs": [
    {
     "data": {
      "text/plain": [
       "([403.25643200166525,\n",
       "  0.1602503432519734,\n",
       "  0.09675450422801077,\n",
       "  0.07666793989483267,\n",
       "  0.05905385992839001,\n",
       "  0.08837529404030647,\n",
       "  0.06497010804712772,\n",
       "  0.08428778685163707,\n",
       "  0.04827717238047626,\n",
       "  1.1729589190392289,\n",
       "  0.05067869793769205,\n",
       "  0.07869959505798761,\n",
       "  0.04361551340967708,\n",
       "  0.048598436104512074,\n",
       "  0.0726776030052497,\n",
       "  0.1281076981437491,\n",
       "  0.04247415977326455,\n",
       "  0.04900333168752695,\n",
       "  0.0374344151371406,\n",
       "  0.2506687257617159,\n",
       "  0.0397332626136631,\n",
       "  0.02766667951051204,\n",
       "  0.026668222101570792,\n",
       "  0.04301585444678494,\n",
       "  0.03412406676752653,\n",
       "  0.05197844096654535,\n",
       "  0.02897321244163322,\n",
       "  0.6554989948836465,\n",
       "  0.02243854993862385,\n",
       "  0.025781313097081694,\n",
       "  0.02582829000305992,\n",
       "  0.022400932750332742,\n",
       "  0.10062085896351278,\n",
       "  0.051148207718451036,\n",
       "  0.02522161569539321,\n",
       "  0.029567425125562572,\n",
       "  0.0346673473231408,\n",
       "  0.06358939906652492,\n",
       "  0.025754902722633234,\n",
       "  0.025818801829350944,\n",
       "  0.0677255466873235,\n",
       "  0.03258729348821873,\n",
       "  0.03431043968011565,\n",
       "  0.03538807722691722,\n",
       "  0.041976555260277736,\n",
       "  0.035283344376857144,\n",
       "  0.018415705414239546,\n",
       "  0.024984265328567866,\n",
       "  0.01285690478625639,\n",
       "  0.019463896370177168,\n",
       "  0.0206534303978533,\n",
       "  0.023173338689568623,\n",
       "  0.025315585457315524,\n",
       "  0.017452096656479572,\n",
       "  0.012570501905742689,\n",
       "  0.01701064381100469,\n",
       "  0.053724469057716835,\n",
       "  0.013323183464494761,\n",
       "  0.021197181108664403,\n",
       "  0.010818509352864429],\n",
       " [0.23530546337366104,\n",
       "  0.0937075226008892,\n",
       "  0.059884197730571034,\n",
       "  0.048153839744627475,\n",
       "  0.1292960238456726,\n",
       "  0.5047047340869903,\n",
       "  0.0349679346382618,\n",
       "  0.040893870033323766,\n",
       "  0.04119463543989696,\n",
       "  0.044442200362682344,\n",
       "  0.34044010676443576,\n",
       "  0.03164559088414535,\n",
       "  0.03653139989983174,\n",
       "  0.02582693674135953,\n",
       "  0.044198447838425636,\n",
       "  0.03673930041491985,\n",
       "  0.03980337546439841,\n",
       "  0.025906354617327453,\n",
       "  0.022325486599002034,\n",
       "  0.04117720768786967,\n",
       "  0.020508232042193413,\n",
       "  0.024327924633107612,\n",
       "  0.030219189805509358,\n",
       "  0.010228590369224548,\n",
       "  0.026225836488938514,\n",
       "  0.02319103721762076,\n",
       "  0.022026074009772856,\n",
       "  0.024550980323983822,\n",
       "  0.02455028833012875,\n",
       "  0.030067429453715704,\n",
       "  0.02879090625967365,\n",
       "  0.024232427689003088,\n",
       "  0.06610215453154974,\n",
       "  0.04816467324282712,\n",
       "  0.011389778547745665,\n",
       "  0.05520533307914878,\n",
       "  0.044548239229073305,\n",
       "  0.030286040337305167,\n",
       "  0.029508086051901045,\n",
       "  0.06339424456740153,\n",
       "  0.03205151333236216,\n",
       "  0.0604989753375412,\n",
       "  0.03986600978391152,\n",
       "  0.053756793182401015,\n",
       "  0.02052579112140819,\n",
       "  0.028792797823235787,\n",
       "  0.03465829729487124,\n",
       "  0.024899668878387047,\n",
       "  0.03351940725716304,\n",
       "  0.027683393803054058,\n",
       "  0.02597983374755506,\n",
       "  0.02046626400569493,\n",
       "  0.03070450627704446,\n",
       "  0.02246384909591825,\n",
       "  0.03842894482804013,\n",
       "  0.03336046249519086,\n",
       "  0.021036916883088813,\n",
       "  0.025019640446338087,\n",
       "  0.03565903637137183,\n",
       "  0.03857573938409246])"
      ]
     },
     "execution_count": 69,
     "metadata": {},
     "output_type": "execute_result"
    }
   ],
   "source": [
    "loss_hist[\"train\"], loss_hist[\"val\"]"
   ]
  },
  {
   "cell_type": "code",
   "execution_count": 71,
   "id": "3ac55201",
   "metadata": {},
   "outputs": [
    {
     "name": "stdout",
     "output_type": "stream",
     "text": [
      "              precision    recall  f1-score   support\n",
      "\n",
      "         0.0       0.99      1.00      0.99       399\n",
      "         1.0       1.00      0.99      0.99       400\n",
      "\n",
      "    accuracy                           0.99       799\n",
      "   macro avg       1.00      0.99      0.99       799\n",
      "weighted avg       1.00      0.99      0.99       799\n",
      " \n",
      "\n",
      "\n"
     ]
    }
   ],
   "source": [
    "# define function For Classification Report\n",
    "def True_and_Pred(val_loader, model):\n",
    "    i = 0\n",
    "    y_true = []\n",
    "    y_pred = []\n",
    "    for images, labels in val_loader:\n",
    "        images = images.to(device)\n",
    "        labels = labels.numpy()\n",
    "        outputs = model(images)\n",
    "        _, pred = torch.max(outputs.data, 1)\n",
    "        pred = pred.detach().cpu().numpy()\n",
    "\n",
    "        y_true = np.append(y_true, labels)\n",
    "        y_pred = np.append(y_pred, pred)\n",
    "\n",
    "    return y_true, y_pred\n",
    "\n",
    "\n",
    "# check confusion matrix for error analysis\n",
    "y_true, y_pred = True_and_Pred(val_loader, cnn_model)\n",
    "\n",
    "print(classification_report(y_true, y_pred), '\\n\\n')\n",
    "cm = confusion_matrix(y_true, y_pred)"
   ]
  },
  {
   "cell_type": "code",
   "execution_count": 72,
   "id": "6b203358",
   "metadata": {},
   "outputs": [
    {
     "data": {
      "image/png": "[encoded data removed]",
      "text/plain": [
       "<Figure size 1000x700 with 2 Axes>"
      ]
     },
     "metadata": {},
     "output_type": "display_data"
    }
   ],
   "source": [
    "CLA_label = {\n",
    "    0 : 'Axial',\n",
    "    1 : 'Sagital'\n",
    "}\n",
    "\n",
    "# Confusion Matrix Plotting Function\n",
    "def show_confusion_matrix(cm, CLA_label, title='Confusion matrix', cmap=plt.cm.YlGnBu):\n",
    "\n",
    "    plt.figure(figsize=(10,7))\n",
    "    plt.grid(False)\n",
    "    plt.imshow(cm, interpolation='nearest', cmap=cmap)\n",
    "    plt.title(title)\n",
    "    plt.colorbar()\n",
    "    tick_marks = np.arange(len(CLA_label))\n",
    "\n",
    "    plt.xticks(tick_marks, [f\"{value}={key}\" for key , value in CLA_label.items()], rotation=45)\n",
    "    plt.yticks(tick_marks, [f\"{value}={key}\" for key , value in CLA_label.items()])\n",
    "\n",
    "    thresh = cm.max() / 2.\n",
    "    for i, j in itertools.product(range(cm.shape[0]), range(cm.shape[1])):\n",
    "        plt.text(j, i, f\"{cm[i,j]}\\n{cm[i,j]/np.sum(cm)*100:.2f}%\", horizontalalignment=\"center\", color=\"white\" if cm[i, j] > thresh else \"black\")\n",
    "\n",
    "    plt.ylabel('Actual')\n",
    "    plt.xlabel('Predicted')\n",
    "    plt.tight_layout()\n",
    "    plt.show()\n",
    "\n",
    "show_confusion_matrix(cm, CLA_label)"
   ]
  },
  {
   "cell_type": "code",
   "execution_count": null,
   "id": "877a7ba3",
   "metadata": {},
   "outputs": [],
   "source": []
  },
  {
   "cell_type": "code",
   "execution_count": null,
   "id": "c3be7af4",
   "metadata": {},
   "outputs": [],
   "source": []
  },
  {
   "cell_type": "code",
   "execution_count": null,
   "id": "9e940466",
   "metadata": {},
   "outputs": [],
   "source": [
    "\n"
   ]
  },
  {
   "cell_type": "code",
   "execution_count": null,
   "id": "6aee96d4",
   "metadata": {},
   "outputs": [],
   "source": []
  },
  {
   "cell_type": "code",
   "execution_count": null,
   "id": "aec66468",
   "metadata": {},
   "outputs": [],
   "source": [
    "\n"
   ]
  },
  {
   "cell_type": "code",
   "execution_count": null,
   "id": "87a1508f",
   "metadata": {},
   "outputs": [],
   "source": []
  },
  {
   "cell_type": "code",
   "execution_count": 134,
   "id": "96a89b9b",
   "metadata": {},
   "outputs": [],
   "source": [
    "def predict_plane(pretrainedModel, imgpath):\n",
    "    \n",
    "    \n",
    "    # Load the pretrained model\n",
    "    test_model= BrainScanPlaneDetector() \n",
    "\n",
    "    if torch.cuda.is_available():\n",
    "        print(\"Loading Model on GPU\")\n",
    "        test_model.load_state_dict(torch.load(pretrainedModel))\n",
    "        test_model = test_model.cuda()\n",
    "    else:\n",
    "        print(\"Loading Model on CPU\")\n",
    "        test_model.load_state_dict(torch.load(pretrainedModel, map_location=torch.device(\"cpu\")))\n",
    "\n",
    "    test_model.eval()\n",
    "\n",
    "\n",
    "\n",
    "    # Transformation for the input image\n",
    "    transform = transforms.Compose(\n",
    "        [\n",
    "            transforms.Resize((256,256)),\n",
    "            transforms.RandomHorizontalFlip(p=0.5),\n",
    "            transforms.RandomVerticalFlip(p=0.5),\n",
    "            transforms.RandomRotation(30),\n",
    "            transforms.ToTensor(),\n",
    "            transforms.Normalize(mean = [0.485, 0.456, 0.406],std = [0.229, 0.224, 0.225])\n",
    "       ]\n",
    "    )\n",
    "\n",
    "    # Load and preprocess the image\n",
    "    image_path = imgpath\n",
    "    image = Image.open(image_path)\n",
    "\n",
    "\n",
    "    image_tensor = transform(image).unsqueeze(0)  # Add batch dimension\n",
    "\n",
    "    if torch.cuda.is_available():\n",
    "        print(\"Loading image(s) on GPU\")\n",
    "        image_tensor = image_tensor.cuda()\n",
    "    else:\n",
    "        print(\"Loading image(s) on CPU\")\n",
    "        device = torch.device(\"cpu\")\n",
    "        image_tensor = image_tensor.to(device)\n",
    "\n",
    "\n",
    "    # Make prediction\n",
    "    with torch.no_grad():\n",
    "        outputs = test_model(image_tensor)\n",
    "        _, predicted = torch.max(outputs, 1)\n",
    "\n",
    "\n",
    "\n",
    "    # Assuming binary classification (0 or 1)\n",
    "    predictedClass = \"\"\n",
    "    if predicted.item() == 0:\n",
    "        print(\"Predicted class: Axial(0)\")\n",
    "        predictedClass = \"Axial\"\n",
    "    else:\n",
    "        print(\"Predicted class: Sagittal(1)\")\n",
    "        predictedClass = \"Sagittal\"\n",
    "    return predictedClass"
   ]
  },
  {
   "cell_type": "code",
   "execution_count": 137,
   "id": "0f6515ed",
   "metadata": {},
   "outputs": [
    {
     "name": "stdout",
     "output_type": "stream",
     "text": [
      "Loading Model on GPU\n",
      "Loading image(s) on GPU\n",
      "Predicted class: Axial(0)\n"
     ]
    },
    {
     "data": {
      "text/plain": [
       "'Axial'"
      ]
     },
     "execution_count": 137,
     "metadata": {},
     "output_type": "execute_result"
    }
   ],
   "source": [
    "predict_plane(\"model2.pth\", r\"P:\\Brain Tumor Data Set\\Brain Tumor Data Set\\Healthy/Test1.jpg\")\n",
    "\n"
   ]
  },
  {
   "cell_type": "code",
   "execution_count": 127,
   "id": "afb9ebce",
   "metadata": {},
   "outputs": [
    {
     "name": "stdout",
     "output_type": "stream",
     "text": [
      "Moving to GPU\n",
      "Predicted class: Axial(0)\n"
     ]
    }
   ],
   "source": [
    "\n"
   ]
  },
  {
   "cell_type": "code",
   "execution_count": null,
   "id": "783e684f",
   "metadata": {},
   "outputs": [],
   "source": []
  }
 ],
 "metadata": {
  "kernelspec": {
   "display_name": "Python 3 (ipykernel)",
   "language": "python",
   "name": "python3"
  },
  "language_info": {
   "codemirror_mode": {
    "name": "ipython",
    "version": 3
   },
   "file_extension": ".py",
   "mimetype": "text/x-python",
   "name": "python",
   "nbconvert_exporter": "python",
   "pygments_lexer": "ipython3",
   "version": "3.11.5"
  }
 },
 "nbformat": 4,
 "nbformat_minor": 5
}
