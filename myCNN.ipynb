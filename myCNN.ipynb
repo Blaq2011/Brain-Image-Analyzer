{
 "cells": [
  {
   "cell_type": "code",
   "execution_count": null,
   "id": "555a21e1-de1d-4bad-b2ab-4d8aee333553",
   "metadata": {},
   "outputs": [],
   "source": []
  },
  {
   "cell_type": "code",
   "execution_count": null,
   "id": "a30947eb-39b7-4a72-983f-be983eedb6bb",
   "metadata": {},
   "outputs": [],
   "source": []
  },
  {
   "cell_type": "code",
   "execution_count": null,
   "id": "d7873d40-ad54-4e9f-98b0-964b4cf26529",
   "metadata": {},
   "outputs": [],
   "source": []
  },
  {
   "cell_type": "code",
   "execution_count": null,
   "id": "bd6e5d0b-46a9-4fe3-b67c-873a69e9ca45",
   "metadata": {},
   "outputs": [],
   "source": []
  },
  {
   "cell_type": "code",
   "execution_count": 15,
   "id": "724d393a",
   "metadata": {},
   "outputs": [],
   "source": [
    "import os\n",
    "import pandas as pd\n",
    "import numpy as np\n",
    "import matplotlib.pyplot as plt\n",
    "import torch\n",
    "import torch.nn as nn\n",
    "from PIL import Image\n",
    "import pathlib\n",
    "import splitfolders\n",
    "import torchvision.transforms as transforms # A module from the torchvision library that provides common image transformations, such as resizing, cropping, and normalization.\n",
    "import torchvision\n",
    "\n",
    "import torch.nn.functional as F\n",
    "from torchsummary import summary\n",
    "from torch import optim\n",
    "from torch.optim.lr_scheduler import ReduceLROnPlateau\n",
    "\n",
    "import copy # A module that provides functions for creating copies of objects, useful for avoiding unintended modifications to variables.\n",
    "# from tqdm.notebook import trange, tqdm # These functions allow for the creation of progress bars to track the progress of loops or tasks.\n",
    "\n",
    "from sklearn.metrics import confusion_matrix, classification_report\n",
    "\n",
    "import seaborn as sns\n",
    "import itertools"
   ]
  },
  {
   "cell_type": "code",
   "execution_count": null,
   "id": "09097904",
   "metadata": {},
   "outputs": [],
   "source": []
  },
  {
   "cell_type": "code",
   "execution_count": 16,
   "id": "66f89724",
   "metadata": {},
   "outputs": [],
   "source": [
    "# New dataset path\n",
    "data_dir = r'C:\\Users\\Evans.Siaw\\Evans.Siaw\\evans\\evans\\pytorchProjects\\trainValSet'\n",
    "data_dir = pathlib.Path(data_dir)"
   ]
  },
  {
   "cell_type": "code",
   "execution_count": 17,
   "id": "7fc17e94",
   "metadata": {},
   "outputs": [
    {
     "data": {
      "text/plain": [
       "['train', 'val']"
      ]
     },
     "execution_count": 17,
     "metadata": {},
     "output_type": "execute_result"
    }
   ],
   "source": [
    "os.listdir(r'C:\\Users\\Evans.Siaw\\Evans.Siaw\\evans\\evans\\pytorchProjects\\trainValSet')"
   ]
  },
  {
   "cell_type": "code",
   "execution_count": 18,
   "id": "66f11d5a",
   "metadata": {},
   "outputs": [],
   "source": [
    "# define transformation\n",
    "transform = transforms.Compose(\n",
    "    [\n",
    "        transforms.Resize((256,256)),\n",
    "        transforms.RandomHorizontalFlip(p=0.5),\n",
    "        transforms.RandomVerticalFlip(p=0.5),\n",
    "        transforms.RandomRotation(30),\n",
    "        transforms.ToTensor(),\n",
    "        transforms.Normalize(mean = [0.485, 0.456, 0.406],std = [0.229, 0.224, 0.225])\n",
    "   ]\n",
    ")"
   ]
  },
  {
   "cell_type": "code",
   "execution_count": 19,
   "id": "c323a8ec",
   "metadata": {},
   "outputs": [
    {
     "data": {
      "text/plain": [
       "Compose(\n",
       "    Resize(size=(256, 256), interpolation=bilinear, max_size=None, antialias=True)\n",
       "    RandomHorizontalFlip(p=0.5)\n",
       "    RandomVerticalFlip(p=0.5)\n",
       "    RandomRotation(degrees=[-30.0, 30.0], interpolation=nearest, expand=False, fill=0)\n",
       "    ToTensor()\n",
       "    Normalize(mean=[0.485, 0.456, 0.406], std=[0.229, 0.224, 0.225])\n",
       ")"
      ]
     },
     "execution_count": 19,
     "metadata": {},
     "output_type": "execute_result"
    }
   ],
   "source": [
    "# Define an object of the custom dataset for the train and validation.\n",
    "train_set = torchvision.datasets.ImageFolder(data_dir.joinpath(\"train\"), transform=transform)\n",
    "train_set.transform\n",
    "val_set = torchvision.datasets.ImageFolder(data_dir.joinpath(\"val\"), transform=transform)\n",
    "val_set.transform"
   ]
  },
  {
   "cell_type": "code",
   "execution_count": 20,
   "id": "06f96e11",
   "metadata": {},
   "outputs": [],
   "source": [
    "# import and load train, validation\n",
    "batch_size = 32\n",
    "\n",
    "train_loader = torch.utils.data.DataLoader(train_set, batch_size = batch_size, shuffle = True, num_workers = 2)\n",
    "val_loader = torch.utils.data.DataLoader(val_set, batch_size = batch_size, shuffle = True, num_workers = 2)\n"
   ]
  },
  {
   "cell_type": "code",
   "execution_count": 21,
   "id": "2c0cbe3d",
   "metadata": {},
   "outputs": [
    {
     "name": "stdout",
     "output_type": "stream",
     "text": [
      "Training data:\n",
      "Shape of X : torch.Size([32, 3, 256, 256])\n",
      "Shape of y: torch.Size([32]) torch.int64\n",
      "\n",
      "Validation data:\n",
      "Shape of X : torch.Size([32, 3, 256, 256])\n",
      "Shape of y: torch.Size([32]) torch.int64\n",
      "\n"
     ]
    }
   ],
   "source": [
    "for key, value in {'Training data': train_loader, \"Validation data\": val_loader}.items():\n",
    "    for X, y in value:\n",
    "        print(f\"{key}:\")\n",
    "        print(f\"Shape of X : {X.shape}\")\n",
    "        print(f\"Shape of y: {y.shape} {y.dtype}\\n\")\n",
    "        break"
   ]
  },
  {
   "cell_type": "code",
   "execution_count": 22,
   "id": "7082d3fa",
   "metadata": {},
   "outputs": [],
   "source": [
    "def findConv2dOutShape(hin,win,conv,pool=2):\n",
    "    # get conv arguments\n",
    "    kernel_size = conv.kernel_size\n",
    "    stride=conv.stride\n",
    "    padding=conv.padding\n",
    "    dilation=conv.dilation\n",
    "\n",
    "    hout=np.floor((hin+2*padding[0]-dilation[0]*(kernel_size[0]-1)-1)/stride[0]+1)\n",
    "    wout=np.floor((win+2*padding[1]-dilation[1]*(kernel_size[1]-1)-1)/stride[1]+1)\n",
    "\n",
    "    if pool:\n",
    "        hout/=pool\n",
    "        wout/=pool\n",
    "    return int(hout),int(wout)"
   ]
  },
  {
   "cell_type": "code",
   "execution_count": 23,
   "id": "ba6ef1ae",
   "metadata": {},
   "outputs": [],
   "source": [
    "class BrainScanPlaneDetector(nn.Module):\n",
    "    def __init__(self, num_classes = 2):\n",
    "        super(BrainScanPlaneDetector, self).__init__()\n",
    "        \n",
    "        # Convolutional layers\n",
    "        self.conv0 = nn.Conv2d(3, 64, kernel_size = 3)\n",
    "        h,w = findConv2dOutShape(256,256,self.conv0)\n",
    "        self.conv1 = nn.Conv2d(64, 128, kernel_size = 3)\n",
    "        h,w = findConv2dOutShape(h,w,self.conv1)\n",
    "        self.conv2 = nn.Conv2d(128, 256, kernel_size = 3)\n",
    "        h,w = findConv2dOutShape(h,w,self.conv2)\n",
    "        self.conv3 = nn.Conv2d(256, 512, kernel_size = 3)\n",
    "        h,w = findConv2dOutShape(h,w,self.conv3)\n",
    "            \n",
    "            \n",
    "        #Max pooling layers\n",
    "        self.maxPool = nn.MaxPool2d(kernel_size = 2, stride = 2)\n",
    "        \n",
    "        #Fully connected layers\n",
    "        self.num_flatten=h*w*512\n",
    "        self.fc1 = nn.Linear(self.num_flatten,512 )\n",
    "        self.fc2 = nn.Linear(512, num_classes)\n",
    "        \n",
    "        #Activation functions\n",
    "        \n",
    "        self.relu = nn.ReLU()\n",
    "        self.dropout = nn.Dropout(0.5)\n",
    "        \n",
    "    def forward(self,x): \n",
    "        # Convolutional layers with ReLU activation and max pooling\n",
    "        x = self.maxPool(self.relu(self.conv0(x)))\n",
    "        x = self.maxPool(self.relu(self.conv1(x)))\n",
    "        x = self.maxPool(self.relu(self.conv2(x)))\n",
    "        x = self.maxPool(self.relu(self.conv3(x)))\n",
    "        \n",
    "        # Flatten the output of the convolutional layers\n",
    "        x = x.view(-1, self.num_flatten)\n",
    "        \n",
    "        # Fully connected layers with dropout\n",
    "        x = self.dropout(self.relu(self.fc1(x)))\n",
    "        x = self.fc2(x)\n",
    "        \n",
    "        return x"
   ]
  },
  {
   "cell_type": "code",
   "execution_count": 29,
   "id": "b92f84e4",
   "metadata": {},
   "outputs": [],
   "source": [
    "# Create an instance of the BrainScanPlaneDetector model\n",
    "model = BrainScanPlaneDetector()\n",
    "device = torch.device(\"cuda\" if torch.cuda.is_available() else \"cpu\")\n",
    "\n",
    "cnn_model = model.to(device)\n",
    "    "
   ]
  },
  {
   "cell_type": "code",
   "execution_count": 31,
   "id": "ff84767b",
   "metadata": {},
   "outputs": [
    {
     "data": {
      "text/plain": [
       "True"
      ]
     },
     "execution_count": 31,
     "metadata": {},
     "output_type": "execute_result"
    }
   ],
   "source": [
    "# torch.cuda.is_available()"
   ]
  },
  {
   "cell_type": "code",
   "execution_count": 30,
   "id": "f722d456",
   "metadata": {},
   "outputs": [
    {
     "name": "stdout",
     "output_type": "stream",
     "text": [
      "----------------------------------------------------------------\n",
      "        Layer (type)               Output Shape         Param #\n",
      "================================================================\n",
      "            Conv2d-1         [-1, 64, 254, 254]           1,792\n",
      "              ReLU-2         [-1, 64, 254, 254]               0\n",
      "         MaxPool2d-3         [-1, 64, 127, 127]               0\n",
      "            Conv2d-4        [-1, 128, 125, 125]          73,856\n",
      "              ReLU-5        [-1, 128, 125, 125]               0\n",
      "         MaxPool2d-6          [-1, 128, 62, 62]               0\n",
      "            Conv2d-7          [-1, 256, 60, 60]         295,168\n",
      "              ReLU-8          [-1, 256, 60, 60]               0\n",
      "         MaxPool2d-9          [-1, 256, 30, 30]               0\n",
      "           Conv2d-10          [-1, 512, 28, 28]       1,180,160\n",
      "             ReLU-11          [-1, 512, 28, 28]               0\n",
      "        MaxPool2d-12          [-1, 512, 14, 14]               0\n",
      "           Linear-13                  [-1, 512]      51,380,736\n",
      "             ReLU-14                  [-1, 512]               0\n",
      "          Dropout-15                  [-1, 512]               0\n",
      "           Linear-16                    [-1, 2]           1,026\n",
      "================================================================\n",
      "Total params: 52,932,738\n",
      "Trainable params: 52,932,738\n",
      "Non-trainable params: 0\n",
      "----------------------------------------------------------------\n",
      "Input size (MB): 0.75\n",
      "Forward/backward pass size (MB): 127.87\n",
      "Params size (MB): 201.92\n",
      "Estimated Total Size (MB): 330.55\n",
      "----------------------------------------------------------------\n"
     ]
    }
   ],
   "source": [
    "# Model Summary for CNN Model\n",
    "summary(cnn_model, input_size=(3,256, 256),device=device.type)"
   ]
  },
  {
   "cell_type": "code",
   "execution_count": 32,
   "id": "ccc0b591",
   "metadata": {},
   "outputs": [],
   "source": [
    "###Defining loss function\n",
    "loss_func = nn.CrossEntropyLoss()"
   ]
  },
  {
   "cell_type": "code",
   "execution_count": 33,
   "id": "f2384821",
   "metadata": {},
   "outputs": [],
   "source": [
    "##Optimizer\n",
    "optimizer = optim.RMSprop(model.parameters(), lr=0.001)"
   ]
  },
  {
   "cell_type": "code",
   "execution_count": null,
   "id": "e45f8404",
   "metadata": {},
   "outputs": [],
   "source": []
  },
  {
   "cell_type": "code",
   "execution_count": 34,
   "id": "08efefc8",
   "metadata": {},
   "outputs": [],
   "source": [
    "def train_and_evaluate_model(model, train_loader, valid_loader, loss_funtion, optimizer, num_epochs, save_path):\n",
    "    device = torch.device(\"cuda\" if torch.cuda.is_available() else \"cpu\")\n",
    "    model.to(device)\n",
    "    \n",
    "      # initialize best loss to a large value\n",
    "    best_valid_loss = float('inf')\n",
    "    \n",
    "      # history of loss values in each epoch\n",
    "    loss_history={\"train\": [],\"val\": []}\n",
    "    # histroy of metric values in each epoch\n",
    "    accuracy_history={\"train\": [],\"val\": []}\n",
    "    \n",
    "    for epoch in range(num_epochs):\n",
    "        # Training phase\n",
    "        model.train()\n",
    "        train_loss = 0.0\n",
    "        correct_train = 0\n",
    "        total_train = 0\n",
    "        for images, labels in train_loader:\n",
    "            images, labels = images.to(device), labels.to(device)\n",
    "            \n",
    "            optimizer.zero_grad()\n",
    "            outputs = model(images)\n",
    "            loss = loss_funtion(outputs, labels)\n",
    "            loss.backward()\n",
    "            optimizer.step()\n",
    "            \n",
    "            train_loss += loss.item()\n",
    "            _, predicted = torch.max(outputs, 1)\n",
    "            correct_train += (predicted == labels).sum().item()\n",
    "            total_train += labels.size(0)\n",
    "        \n",
    "        train_accuracy = 100 * correct_train / total_train\n",
    "        train_loss /= len(train_loader)\n",
    "        \n",
    "         # collect loss and accuracy for training\n",
    "        loss_history[\"train\"].append(train_loss)\n",
    "        accuracy_history[\"train\"].append(train_accuracy)\n",
    "        \n",
    "        # Validation phase\n",
    "        model.eval()\n",
    "        valid_loss = 0.0\n",
    "        correct_valid = 0\n",
    "        total_valid = 0\n",
    "        with torch.no_grad():\n",
    "            for images, labels in valid_loader:\n",
    "                images, labels = images.to(device), labels.to(device)\n",
    "                \n",
    "                outputs = model(images)\n",
    "                loss = loss_funtion(outputs, labels)\n",
    "                \n",
    "                valid_loss += loss.item()\n",
    "                _, predicted = torch.max(outputs, 1)\n",
    "                correct_valid += (predicted == labels).sum().item()\n",
    "                total_valid += labels.size(0)\n",
    "        \n",
    "        valid_accuracy = 100 * correct_valid / total_valid\n",
    "        valid_loss /=  len(valid_loader)\n",
    "        \n",
    "         # collect loss and accuracy for validation \n",
    "        loss_history[\"val\"].append(valid_loss)\n",
    "        accuracy_history[\"val\"].append(valid_accuracy)\n",
    "        \n",
    "        # Save the model if validation loss improves\n",
    "        if valid_loss < best_valid_loss:\n",
    "            best_valid_loss = valid_loss\n",
    "            torch.save(model.state_dict(), save_path)\n",
    "            model.load_state_dict(torch.load(save_path))\n",
    "        # Print training and validation statistics\n",
    "        print(f'Epoch [{epoch+1}/{num_epochs}], '\n",
    "              f'Train Loss: {train_loss:.4f}, Train Acc: {train_accuracy:.2f}%, '\n",
    "              f'Valid Loss: {valid_loss:.4f}, Valid Acc: {valid_accuracy:.2f}%')\n",
    "    model.load_state_dict(torch.load(save_path))\n",
    "    return model, loss_history, accuracy_history"
   ]
  },
  {
   "cell_type": "code",
   "execution_count": null,
   "id": "82464d2f",
   "metadata": {},
   "outputs": [],
   "source": [
    "num_epochs = 2\n",
    "save_path='model.pth'\n",
    "cnn_model, loss_hist,accuracy_hist = train_and_evaluate_model(model, train_loader,val_loader, loss_func, optimizer, 10, save_path)"
   ]
  },
  {
   "cell_type": "code",
   "execution_count": null,
   "id": "8d3c8702",
   "metadata": {},
   "outputs": [],
   "source": []
  },
  {
   "cell_type": "code",
   "execution_count": 105,
   "id": "6a9647a0",
   "metadata": {},
   "outputs": [],
   "source": [
    "\n"
   ]
  },
  {
   "cell_type": "code",
   "execution_count": 96,
   "id": "10792fd3",
   "metadata": {},
   "outputs": [],
   "source": [
    "\n",
    "data = {\n",
    "    \"loss_hist['train']\": loss_hist[\"train\"],\n",
    "    \"loss_hist['val']\": loss_hist[\"val\"],\n",
    "    \"accuracy_hist['train']\": accuracy_hist[\"train\"],\n",
    "    \"accuracy_hist['val']\": accuracy_hist[\"val\"]\n",
    "}\n",
    "\n",
    "df = pd.DataFrame(data)\n",
    "df.to_csv(\"modelResult.csv\")"
   ]
  },
  {
   "cell_type": "code",
   "execution_count": 103,
   "id": "5441f41b",
   "metadata": {},
   "outputs": [
    {
     "name": "stdout",
     "output_type": "stream",
     "text": [
      "<All keys matched successfully>\n"
     ]
    }
   ],
   "source": [
    "print(cnn_model)\n"
   ]
  },
  {
   "cell_type": "code",
   "execution_count": 100,
   "id": "37fdab33",
   "metadata": {},
   "outputs": [
    {
     "data": {
      "text/plain": [
       "<AxesSubplot:>"
      ]
     },
     "execution_count": 100,
     "metadata": {},
     "output_type": "execute_result"
    },
    {
     "data": {
      "image/png": "[encoded data removed]",
      "text/plain": [
       "<Figure size 864x360 with 2 Axes>"
      ]
     },
     "metadata": {
      "needs_background": "light"
     },
     "output_type": "display_data"
    }
   ],
   "source": [
    "# Convergence History Plot\n",
    "\n",
    "fig,ax = plt.subplots(1,2,figsize=(12,5))\n",
    "\n",
    "sns.lineplot(x=[*range(1,num_epochs+1)],y=loss_hist[\"train\"],ax=ax[0],label='loss_hist[\"train\"]')\n",
    "sns.lineplot(x=[*range(1,num_epochs+1)],y=loss_hist[\"val\"],ax=ax[0],label='loss_hist[\"val\"]')\n",
    "sns.lineplot(x=[*range(1,num_epochs+1)],y=accuracy_hist[\"train\"],ax=ax[1],label='accuracy_hist[\"train\"]')\n",
    "sns.lineplot(x=[*range(1,num_epochs+1)],y=accuracy_hist[\"val\"],ax=ax[1],label='accuracy_hist[\"val\"]')"
   ]
  },
  {
   "cell_type": "code",
   "execution_count": null,
   "id": "57e5df9f",
   "metadata": {},
   "outputs": [],
   "source": []
  },
  {
   "cell_type": "code",
   "execution_count": 98,
   "id": "3ac55201",
   "metadata": {},
   "outputs": [
    {
     "ename": "TypeError",
     "evalue": "'_IncompatibleKeys' object is not callable",
     "output_type": "error",
     "traceback": [
      "\u001b[1;31m---------------------------------------------------------------------------\u001b[0m",
      "\u001b[1;31mTypeError\u001b[0m                                 Traceback (most recent call last)",
      "Input \u001b[1;32mIn [98]\u001b[0m, in \u001b[0;36m<cell line: 20>\u001b[1;34m()\u001b[0m\n\u001b[0;32m     16\u001b[0m     \u001b[38;5;28;01mreturn\u001b[39;00m y_true, y_pred\n\u001b[0;32m     19\u001b[0m \u001b[38;5;66;03m# check confusion matrix for error analysis\u001b[39;00m\n\u001b[1;32m---> 20\u001b[0m y_true, y_pred \u001b[38;5;241m=\u001b[39m \u001b[43mTrue_and_Pred\u001b[49m\u001b[43m(\u001b[49m\u001b[43mval_loader\u001b[49m\u001b[43m,\u001b[49m\u001b[43m \u001b[49m\u001b[43mcnn_model\u001b[49m\u001b[43m)\u001b[49m\n\u001b[0;32m     22\u001b[0m \u001b[38;5;28mprint\u001b[39m(classification_report(y_true, y_pred), \u001b[38;5;124m'\u001b[39m\u001b[38;5;130;01m\\n\u001b[39;00m\u001b[38;5;130;01m\\n\u001b[39;00m\u001b[38;5;124m'\u001b[39m)\n\u001b[0;32m     23\u001b[0m cm \u001b[38;5;241m=\u001b[39m confusion_matrix(y_true, y_pred)\n",
      "Input \u001b[1;32mIn [98]\u001b[0m, in \u001b[0;36mTrue_and_Pred\u001b[1;34m(val_loader, model)\u001b[0m\n\u001b[0;32m      7\u001b[0m images \u001b[38;5;241m=\u001b[39m images\u001b[38;5;241m.\u001b[39mto(device)\n\u001b[0;32m      8\u001b[0m labels \u001b[38;5;241m=\u001b[39m labels\u001b[38;5;241m.\u001b[39mnumpy()\n\u001b[1;32m----> 9\u001b[0m outputs \u001b[38;5;241m=\u001b[39m \u001b[43mmodel\u001b[49m\u001b[43m(\u001b[49m\u001b[43mimages\u001b[49m\u001b[43m)\u001b[49m\n\u001b[0;32m     10\u001b[0m _, pred \u001b[38;5;241m=\u001b[39m torch\u001b[38;5;241m.\u001b[39mmax(outputs\u001b[38;5;241m.\u001b[39mdata, \u001b[38;5;241m1\u001b[39m)\n\u001b[0;32m     11\u001b[0m pred \u001b[38;5;241m=\u001b[39m pred\u001b[38;5;241m.\u001b[39mdetach()\u001b[38;5;241m.\u001b[39mcpu()\u001b[38;5;241m.\u001b[39mnumpy()\n",
      "\u001b[1;31mTypeError\u001b[0m: '_IncompatibleKeys' object is not callable"
     ]
    }
   ],
   "source": [
    "# define function For Classification Report\n",
    "def True_and_Pred(val_loader, model):\n",
    "    i = 0\n",
    "    y_true = []\n",
    "    y_pred = []\n",
    "    for images, labels in val_loader:\n",
    "        images = images.to(device)\n",
    "        labels = labels.numpy()\n",
    "        outputs = model(images)\n",
    "        _, pred = torch.max(outputs.data, 1)\n",
    "        pred = pred.detach().cpu().numpy()\n",
    "\n",
    "        y_true = np.append(y_true, labels)\n",
    "        y_pred = np.append(y_pred, pred)\n",
    "\n",
    "    return y_true, y_pred\n",
    "\n",
    "\n",
    "# check confusion matrix for error analysis\n",
    "y_true, y_pred = True_and_Pred(val_loader, cnn_model)\n",
    "\n",
    "print(classification_report(y_true, y_pred), '\\n\\n')\n",
    "cm = confusion_matrix(y_true, y_pred)"
   ]
  },
  {
   "cell_type": "code",
   "execution_count": null,
   "id": "6b203358",
   "metadata": {},
   "outputs": [],
   "source": [
    "CLA_label = {\n",
    "    0 : 'Axial',\n",
    "    1 : 'Sagital'\n",
    "}\n",
    "\n",
    "# Confusion Matrix Plotting Function\n",
    "def show_confusion_matrix(cm, CLA_label, title='Confusion matrix', cmap=plt.cm.YlGnBu):\n",
    "\n",
    "    plt.figure(figsize=(10,7))\n",
    "    plt.grid(False)\n",
    "    plt.imshow(cm, interpolation='nearest', cmap=cmap)\n",
    "    plt.title(title)\n",
    "    plt.colorbar()\n",
    "    tick_marks = np.arange(len(CLA_label))\n",
    "\n",
    "    plt.xticks(tick_marks, [f\"{value}={key}\" for key , value in CLA_label.items()], rotation=45)\n",
    "    plt.yticks(tick_marks, [f\"{value}={key}\" for key , value in CLA_label.items()])\n",
    "\n",
    "    thresh = cm.max() / 2.\n",
    "    for i, j in itertools.product(range(cm.shape[0]), range(cm.shape[1])):\n",
    "        plt.text(j, i, f\"{cm[i,j]}\\n{cm[i,j]/np.sum(cm)*100:.2f}%\", horizontalalignment=\"center\", color=\"white\" if cm[i, j] > thresh else \"black\")\n",
    "\n",
    "    plt.ylabel('Actual')\n",
    "    plt.xlabel('Predicted')\n",
    "    plt.tight_layout()\n",
    "    plt.show()\n",
    "\n",
    "show_confusion_matrix(cm, CLA_label)"
   ]
  },
  {
   "cell_type": "code",
   "execution_count": null,
   "id": "877a7ba3",
   "metadata": {},
   "outputs": [],
   "source": []
  }
 ],
 "metadata": {
  "kernelspec": {
   "display_name": "Python 3 (ipykernel)",
   "language": "python",
   "name": "python3"
  },
  "language_info": {
   "codemirror_mode": {
    "name": "ipython",
    "version": 3
   },
   "file_extension": ".py",
   "mimetype": "text/x-python",
   "name": "python",
   "nbconvert_exporter": "python",
   "pygments_lexer": "ipython3",
   "version": "3.8.18"
  }
 },
 "nbformat": 4,
 "nbformat_minor": 5
}
